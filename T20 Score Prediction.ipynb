{
 "cells": [
  {
   "cell_type": "code",
   "execution_count": 2,
   "id": "7eab1889",
   "metadata": {
    "id": "7eab1889"
   },
   "outputs": [],
   "source": [
    "import pandas as pd\n",
    "import pickle\n",
    "import numpy as np"
   ]
  },
  {
   "cell_type": "code",
   "execution_count": 3,
   "id": "0d5a4a5a",
   "metadata": {
    "id": "0d5a4a5a"
   },
   "outputs": [],
   "source": [
    "df=pd.read_csv('T20 International Dataset.csv')"
   ]
  },
  {
   "cell_type": "code",
   "execution_count": 4,
   "id": "6a5e2ac1",
   "metadata": {
    "colab": {
     "base_uri": "https://localhost:8080/",
     "height": 267
    },
    "id": "6a5e2ac1",
    "outputId": "bf24dc22-cc40-4629-901a-1fb6932dad78"
   },
   "outputs": [
    {
     "data": {
      "text/html": [
       "<div>\n",
       "<style scoped>\n",
       "    .dataframe tbody tr th:only-of-type {\n",
       "        vertical-align: middle;\n",
       "    }\n",
       "\n",
       "    .dataframe tbody tr th {\n",
       "        vertical-align: top;\n",
       "    }\n",
       "\n",
       "    .dataframe thead th {\n",
       "        text-align: right;\n",
       "    }\n",
       "</style>\n",
       "<table border=\"1\" class=\"dataframe\">\n",
       "  <thead>\n",
       "    <tr style=\"text-align: right;\">\n",
       "      <th></th>\n",
       "      <th>Unnamed: 0</th>\n",
       "      <th>powerPlay</th>\n",
       "      <th>balls</th>\n",
       "      <th>AverageScore</th>\n",
       "      <th>battingTeam</th>\n",
       "      <th>bowlingTeam</th>\n",
       "      <th>city</th>\n",
       "      <th>delivery_left</th>\n",
       "      <th>score</th>\n",
       "      <th>CurrentRunRate</th>\n",
       "      <th>wicketsLeft</th>\n",
       "      <th>Run_In_Last5</th>\n",
       "      <th>Wickets_In_Last5</th>\n",
       "      <th>Final_Score</th>\n",
       "      <th>innings</th>\n",
       "    </tr>\n",
       "  </thead>\n",
       "  <tbody>\n",
       "    <tr>\n",
       "      <th>0</th>\n",
       "      <td>29</td>\n",
       "      <td>1</td>\n",
       "      <td>4.4</td>\n",
       "      <td>159.2</td>\n",
       "      <td>West Indies</td>\n",
       "      <td>India</td>\n",
       "      <td>Lauderhill</td>\n",
       "      <td>92</td>\n",
       "      <td>28</td>\n",
       "      <td>6.000000</td>\n",
       "      <td>7</td>\n",
       "      <td>28.0</td>\n",
       "      <td>3.0</td>\n",
       "      <td>95</td>\n",
       "      <td>1</td>\n",
       "    </tr>\n",
       "    <tr>\n",
       "      <th>1</th>\n",
       "      <td>30</td>\n",
       "      <td>1</td>\n",
       "      <td>4.5</td>\n",
       "      <td>159.2</td>\n",
       "      <td>West Indies</td>\n",
       "      <td>India</td>\n",
       "      <td>Lauderhill</td>\n",
       "      <td>91</td>\n",
       "      <td>28</td>\n",
       "      <td>5.793103</td>\n",
       "      <td>6</td>\n",
       "      <td>28.0</td>\n",
       "      <td>4.0</td>\n",
       "      <td>95</td>\n",
       "      <td>1</td>\n",
       "    </tr>\n",
       "    <tr>\n",
       "      <th>2</th>\n",
       "      <td>31</td>\n",
       "      <td>1</td>\n",
       "      <td>4.6</td>\n",
       "      <td>159.2</td>\n",
       "      <td>West Indies</td>\n",
       "      <td>India</td>\n",
       "      <td>Lauderhill</td>\n",
       "      <td>90</td>\n",
       "      <td>28</td>\n",
       "      <td>5.600000</td>\n",
       "      <td>6</td>\n",
       "      <td>28.0</td>\n",
       "      <td>3.0</td>\n",
       "      <td>95</td>\n",
       "      <td>1</td>\n",
       "    </tr>\n",
       "    <tr>\n",
       "      <th>3</th>\n",
       "      <td>32</td>\n",
       "      <td>1</td>\n",
       "      <td>5.1</td>\n",
       "      <td>159.2</td>\n",
       "      <td>West Indies</td>\n",
       "      <td>India</td>\n",
       "      <td>Lauderhill</td>\n",
       "      <td>89</td>\n",
       "      <td>28</td>\n",
       "      <td>5.419355</td>\n",
       "      <td>6</td>\n",
       "      <td>28.0</td>\n",
       "      <td>3.0</td>\n",
       "      <td>95</td>\n",
       "      <td>1</td>\n",
       "    </tr>\n",
       "    <tr>\n",
       "      <th>4</th>\n",
       "      <td>33</td>\n",
       "      <td>1</td>\n",
       "      <td>5.2</td>\n",
       "      <td>159.2</td>\n",
       "      <td>West Indies</td>\n",
       "      <td>India</td>\n",
       "      <td>Lauderhill</td>\n",
       "      <td>88</td>\n",
       "      <td>29</td>\n",
       "      <td>5.437500</td>\n",
       "      <td>6</td>\n",
       "      <td>28.0</td>\n",
       "      <td>3.0</td>\n",
       "      <td>95</td>\n",
       "      <td>1</td>\n",
       "    </tr>\n",
       "  </tbody>\n",
       "</table>\n",
       "</div>"
      ],
      "text/plain": [
       "   Unnamed: 0  powerPlay  balls  AverageScore  battingTeam bowlingTeam  \\\n",
       "0          29          1    4.4         159.2  West Indies       India   \n",
       "1          30          1    4.5         159.2  West Indies       India   \n",
       "2          31          1    4.6         159.2  West Indies       India   \n",
       "3          32          1    5.1         159.2  West Indies       India   \n",
       "4          33          1    5.2         159.2  West Indies       India   \n",
       "\n",
       "         city  delivery_left  score  CurrentRunRate  wicketsLeft  \\\n",
       "0  Lauderhill             92     28        6.000000            7   \n",
       "1  Lauderhill             91     28        5.793103            6   \n",
       "2  Lauderhill             90     28        5.600000            6   \n",
       "3  Lauderhill             89     28        5.419355            6   \n",
       "4  Lauderhill             88     29        5.437500            6   \n",
       "\n",
       "   Run_In_Last5  Wickets_In_Last5  Final_Score  innings  \n",
       "0          28.0               3.0           95        1  \n",
       "1          28.0               4.0           95        1  \n",
       "2          28.0               3.0           95        1  \n",
       "3          28.0               3.0           95        1  \n",
       "4          28.0               3.0           95        1  "
      ]
     },
     "execution_count": 4,
     "metadata": {},
     "output_type": "execute_result"
    }
   ],
   "source": [
    "df.head()\n"
   ]
  },
  {
   "cell_type": "code",
   "execution_count": 5,
   "id": "5e41e5b5",
   "metadata": {
    "colab": {
     "base_uri": "https://localhost:8080/"
    },
    "id": "5e41e5b5",
    "outputId": "ca4637cd-60f7-491d-a2c1-7ac862038c95"
   },
   "outputs": [
    {
     "data": {
      "text/plain": [
       "(131624, 15)"
      ]
     },
     "execution_count": 5,
     "metadata": {},
     "output_type": "execute_result"
    }
   ],
   "source": [
    "df.shape"
   ]
  },
  {
   "cell_type": "code",
   "execution_count": 6,
   "id": "e8a621a6",
   "metadata": {
    "id": "e8a621a6"
   },
   "outputs": [],
   "source": [
    "df.rename( columns={'Unnamed: 0':'ID'}, inplace=True )"
   ]
  },
  {
   "cell_type": "code",
   "execution_count": 7,
   "id": "d235289c",
   "metadata": {
    "colab": {
     "base_uri": "https://localhost:8080/"
    },
    "id": "d235289c",
    "outputId": "ecb5e17b-1731-40e6-f81d-dbb6842ea7dc",
    "scrolled": true
   },
   "outputs": [
    {
     "name": "stdout",
     "output_type": "stream",
     "text": [
      "<class 'pandas.core.frame.DataFrame'>\n",
      "RangeIndex: 131624 entries, 0 to 131623\n",
      "Data columns (total 15 columns):\n",
      " #   Column            Non-Null Count   Dtype  \n",
      "---  ------            --------------   -----  \n",
      " 0   ID                131624 non-null  int64  \n",
      " 1   powerPlay         131624 non-null  int64  \n",
      " 2   balls             131624 non-null  float64\n",
      " 3   AverageScore      131624 non-null  float64\n",
      " 4   battingTeam       131624 non-null  object \n",
      " 5   bowlingTeam       131624 non-null  object \n",
      " 6   city              131624 non-null  object \n",
      " 7   delivery_left     131624 non-null  int64  \n",
      " 8   score             131624 non-null  int64  \n",
      " 9   CurrentRunRate    131624 non-null  float64\n",
      " 10  wicketsLeft       131624 non-null  int64  \n",
      " 11  Run_In_Last5      131624 non-null  float64\n",
      " 12  Wickets_In_Last5  131624 non-null  float64\n",
      " 13  Final_Score       131624 non-null  int64  \n",
      " 14  innings           131624 non-null  int64  \n",
      "dtypes: float64(5), int64(7), object(3)\n",
      "memory usage: 15.1+ MB\n"
     ]
    }
   ],
   "source": [
    "df.info()"
   ]
  },
  {
   "cell_type": "code",
   "execution_count": 8,
   "id": "1b790a20",
   "metadata": {
    "colab": {
     "base_uri": "https://localhost:8080/",
     "height": 206
    },
    "id": "1b790a20",
    "outputId": "7aa7b03e-a746-47b4-87e0-1057235e0dcb"
   },
   "outputs": [
    {
     "data": {
      "text/html": [
       "<div>\n",
       "<style scoped>\n",
       "    .dataframe tbody tr th:only-of-type {\n",
       "        vertical-align: middle;\n",
       "    }\n",
       "\n",
       "    .dataframe tbody tr th {\n",
       "        vertical-align: top;\n",
       "    }\n",
       "\n",
       "    .dataframe thead th {\n",
       "        text-align: right;\n",
       "    }\n",
       "</style>\n",
       "<table border=\"1\" class=\"dataframe\">\n",
       "  <thead>\n",
       "    <tr style=\"text-align: right;\">\n",
       "      <th></th>\n",
       "      <th>balls</th>\n",
       "      <th>battingTeam</th>\n",
       "      <th>bowlingTeam</th>\n",
       "      <th>score</th>\n",
       "      <th>wicketsLeft</th>\n",
       "      <th>Run_In_Last5</th>\n",
       "      <th>Wickets_In_Last5</th>\n",
       "      <th>Final_Score</th>\n",
       "    </tr>\n",
       "  </thead>\n",
       "  <tbody>\n",
       "    <tr>\n",
       "      <th>0</th>\n",
       "      <td>4.4</td>\n",
       "      <td>West Indies</td>\n",
       "      <td>India</td>\n",
       "      <td>28</td>\n",
       "      <td>7</td>\n",
       "      <td>28.0</td>\n",
       "      <td>3.0</td>\n",
       "      <td>95</td>\n",
       "    </tr>\n",
       "    <tr>\n",
       "      <th>1</th>\n",
       "      <td>4.5</td>\n",
       "      <td>West Indies</td>\n",
       "      <td>India</td>\n",
       "      <td>28</td>\n",
       "      <td>6</td>\n",
       "      <td>28.0</td>\n",
       "      <td>4.0</td>\n",
       "      <td>95</td>\n",
       "    </tr>\n",
       "    <tr>\n",
       "      <th>2</th>\n",
       "      <td>4.6</td>\n",
       "      <td>West Indies</td>\n",
       "      <td>India</td>\n",
       "      <td>28</td>\n",
       "      <td>6</td>\n",
       "      <td>28.0</td>\n",
       "      <td>3.0</td>\n",
       "      <td>95</td>\n",
       "    </tr>\n",
       "    <tr>\n",
       "      <th>3</th>\n",
       "      <td>5.1</td>\n",
       "      <td>West Indies</td>\n",
       "      <td>India</td>\n",
       "      <td>28</td>\n",
       "      <td>6</td>\n",
       "      <td>28.0</td>\n",
       "      <td>3.0</td>\n",
       "      <td>95</td>\n",
       "    </tr>\n",
       "    <tr>\n",
       "      <th>4</th>\n",
       "      <td>5.2</td>\n",
       "      <td>West Indies</td>\n",
       "      <td>India</td>\n",
       "      <td>29</td>\n",
       "      <td>6</td>\n",
       "      <td>28.0</td>\n",
       "      <td>3.0</td>\n",
       "      <td>95</td>\n",
       "    </tr>\n",
       "  </tbody>\n",
       "</table>\n",
       "</div>"
      ],
      "text/plain": [
       "   balls  battingTeam bowlingTeam  score  wicketsLeft  Run_In_Last5  \\\n",
       "0    4.4  West Indies       India     28            7          28.0   \n",
       "1    4.5  West Indies       India     28            6          28.0   \n",
       "2    4.6  West Indies       India     28            6          28.0   \n",
       "3    5.1  West Indies       India     28            6          28.0   \n",
       "4    5.2  West Indies       India     29            6          28.0   \n",
       "\n",
       "   Wickets_In_Last5  Final_Score  \n",
       "0               3.0           95  \n",
       "1               4.0           95  \n",
       "2               3.0           95  \n",
       "3               3.0           95  \n",
       "4               3.0           95  "
      ]
     },
     "execution_count": 8,
     "metadata": {},
     "output_type": "execute_result"
    }
   ],
   "source": [
    "# Removing the unwanted columns\n",
    "df.drop(['powerPlay','city','innings','delivery_left','ID','AverageScore','CurrentRunRate'] , axis=1, inplace=True)\n",
    "df.head()"
   ]
  },
  {
   "cell_type": "code",
   "execution_count": 9,
   "id": "16b0d19d",
   "metadata": {
    "id": "16b0d19d"
   },
   "outputs": [],
   "source": [
    "df['wickets']=10-df['wicketsLeft']"
   ]
  },
  {
   "cell_type": "code",
   "execution_count": 10,
   "id": "e0393ae6",
   "metadata": {
    "colab": {
     "base_uri": "https://localhost:8080/",
     "height": 206
    },
    "id": "e0393ae6",
    "outputId": "4505982a-0860-4904-d315-68e714a03f1c"
   },
   "outputs": [
    {
     "data": {
      "text/html": [
       "<div>\n",
       "<style scoped>\n",
       "    .dataframe tbody tr th:only-of-type {\n",
       "        vertical-align: middle;\n",
       "    }\n",
       "\n",
       "    .dataframe tbody tr th {\n",
       "        vertical-align: top;\n",
       "    }\n",
       "\n",
       "    .dataframe thead th {\n",
       "        text-align: right;\n",
       "    }\n",
       "</style>\n",
       "<table border=\"1\" class=\"dataframe\">\n",
       "  <thead>\n",
       "    <tr style=\"text-align: right;\">\n",
       "      <th></th>\n",
       "      <th>balls</th>\n",
       "      <th>battingTeam</th>\n",
       "      <th>bowlingTeam</th>\n",
       "      <th>score</th>\n",
       "      <th>Run_In_Last5</th>\n",
       "      <th>Wickets_In_Last5</th>\n",
       "      <th>Final_Score</th>\n",
       "      <th>wickets</th>\n",
       "    </tr>\n",
       "  </thead>\n",
       "  <tbody>\n",
       "    <tr>\n",
       "      <th>0</th>\n",
       "      <td>4.4</td>\n",
       "      <td>West Indies</td>\n",
       "      <td>India</td>\n",
       "      <td>28</td>\n",
       "      <td>28.0</td>\n",
       "      <td>3.0</td>\n",
       "      <td>95</td>\n",
       "      <td>3</td>\n",
       "    </tr>\n",
       "    <tr>\n",
       "      <th>1</th>\n",
       "      <td>4.5</td>\n",
       "      <td>West Indies</td>\n",
       "      <td>India</td>\n",
       "      <td>28</td>\n",
       "      <td>28.0</td>\n",
       "      <td>4.0</td>\n",
       "      <td>95</td>\n",
       "      <td>4</td>\n",
       "    </tr>\n",
       "    <tr>\n",
       "      <th>2</th>\n",
       "      <td>4.6</td>\n",
       "      <td>West Indies</td>\n",
       "      <td>India</td>\n",
       "      <td>28</td>\n",
       "      <td>28.0</td>\n",
       "      <td>3.0</td>\n",
       "      <td>95</td>\n",
       "      <td>4</td>\n",
       "    </tr>\n",
       "    <tr>\n",
       "      <th>3</th>\n",
       "      <td>5.1</td>\n",
       "      <td>West Indies</td>\n",
       "      <td>India</td>\n",
       "      <td>28</td>\n",
       "      <td>28.0</td>\n",
       "      <td>3.0</td>\n",
       "      <td>95</td>\n",
       "      <td>4</td>\n",
       "    </tr>\n",
       "    <tr>\n",
       "      <th>4</th>\n",
       "      <td>5.2</td>\n",
       "      <td>West Indies</td>\n",
       "      <td>India</td>\n",
       "      <td>29</td>\n",
       "      <td>28.0</td>\n",
       "      <td>3.0</td>\n",
       "      <td>95</td>\n",
       "      <td>4</td>\n",
       "    </tr>\n",
       "  </tbody>\n",
       "</table>\n",
       "</div>"
      ],
      "text/plain": [
       "   balls  battingTeam bowlingTeam  score  Run_In_Last5  Wickets_In_Last5  \\\n",
       "0    4.4  West Indies       India     28          28.0               3.0   \n",
       "1    4.5  West Indies       India     28          28.0               4.0   \n",
       "2    4.6  West Indies       India     28          28.0               3.0   \n",
       "3    5.1  West Indies       India     28          28.0               3.0   \n",
       "4    5.2  West Indies       India     29          28.0               3.0   \n",
       "\n",
       "   Final_Score  wickets  \n",
       "0           95        3  \n",
       "1           95        4  \n",
       "2           95        4  \n",
       "3           95        4  \n",
       "4           95        4  "
      ]
     },
     "execution_count": 10,
     "metadata": {},
     "output_type": "execute_result"
    }
   ],
   "source": [
    "# Removing the unwanted columns\n",
    "df.drop(['wicketsLeft'] , axis=1, inplace=True)\n",
    "df.head()"
   ]
  },
  {
   "cell_type": "code",
   "execution_count": 11,
   "id": "fe798773",
   "metadata": {
    "colab": {
     "base_uri": "https://localhost:8080/"
    },
    "id": "fe798773",
    "outputId": "486fe2fc-4f40-4496-adb4-b99a8f6f76db"
   },
   "outputs": [
    {
     "data": {
      "text/plain": [
       "Index(['balls', 'battingTeam', 'bowlingTeam', 'score', 'Run_In_Last5',\n",
       "       'Wickets_In_Last5', 'Final_Score', 'wickets'],\n",
       "      dtype='object')"
      ]
     },
     "execution_count": 11,
     "metadata": {},
     "output_type": "execute_result"
    }
   ],
   "source": [
    "df.columns"
   ]
  },
  {
   "cell_type": "code",
   "execution_count": 12,
   "id": "4bf6a5b6",
   "metadata": {
    "colab": {
     "base_uri": "https://localhost:8080/",
     "height": 270
    },
    "id": "4bf6a5b6",
    "outputId": "3b9d3a6e-1f2b-43d2-9ea4-01b0290f5e21"
   },
   "outputs": [
    {
     "data": {
      "text/html": [
       "<div>\n",
       "<style scoped>\n",
       "    .dataframe tbody tr th:only-of-type {\n",
       "        vertical-align: middle;\n",
       "    }\n",
       "\n",
       "    .dataframe tbody tr th {\n",
       "        vertical-align: top;\n",
       "    }\n",
       "\n",
       "    .dataframe thead th {\n",
       "        text-align: right;\n",
       "    }\n",
       "</style>\n",
       "<table border=\"1\" class=\"dataframe\">\n",
       "  <thead>\n",
       "    <tr style=\"text-align: right;\">\n",
       "      <th></th>\n",
       "      <th>balls</th>\n",
       "      <th>battingTeam</th>\n",
       "      <th>bowlingTeam</th>\n",
       "      <th>score</th>\n",
       "      <th>Run_In_Last5</th>\n",
       "      <th>Wickets_In_Last5</th>\n",
       "      <th>Final_Score</th>\n",
       "      <th>wickets</th>\n",
       "      <th>Battingteam</th>\n",
       "      <th>Bowlingteam</th>\n",
       "      <th>Currentscore</th>\n",
       "      <th>overs</th>\n",
       "      <th>Wickets</th>\n",
       "      <th>RunsinLast_5</th>\n",
       "      <th>WicketsinLast_5</th>\n",
       "      <th>FinalScore</th>\n",
       "    </tr>\n",
       "  </thead>\n",
       "  <tbody>\n",
       "    <tr>\n",
       "      <th>0</th>\n",
       "      <td>4.4</td>\n",
       "      <td>West Indies</td>\n",
       "      <td>India</td>\n",
       "      <td>28</td>\n",
       "      <td>28.0</td>\n",
       "      <td>3.0</td>\n",
       "      <td>95</td>\n",
       "      <td>3</td>\n",
       "      <td>West Indies</td>\n",
       "      <td>India</td>\n",
       "      <td>28</td>\n",
       "      <td>4.4</td>\n",
       "      <td>3</td>\n",
       "      <td>28.0</td>\n",
       "      <td>3.0</td>\n",
       "      <td>95</td>\n",
       "    </tr>\n",
       "    <tr>\n",
       "      <th>1</th>\n",
       "      <td>4.5</td>\n",
       "      <td>West Indies</td>\n",
       "      <td>India</td>\n",
       "      <td>28</td>\n",
       "      <td>28.0</td>\n",
       "      <td>4.0</td>\n",
       "      <td>95</td>\n",
       "      <td>4</td>\n",
       "      <td>West Indies</td>\n",
       "      <td>India</td>\n",
       "      <td>28</td>\n",
       "      <td>4.5</td>\n",
       "      <td>4</td>\n",
       "      <td>28.0</td>\n",
       "      <td>4.0</td>\n",
       "      <td>95</td>\n",
       "    </tr>\n",
       "    <tr>\n",
       "      <th>2</th>\n",
       "      <td>4.6</td>\n",
       "      <td>West Indies</td>\n",
       "      <td>India</td>\n",
       "      <td>28</td>\n",
       "      <td>28.0</td>\n",
       "      <td>3.0</td>\n",
       "      <td>95</td>\n",
       "      <td>4</td>\n",
       "      <td>West Indies</td>\n",
       "      <td>India</td>\n",
       "      <td>28</td>\n",
       "      <td>4.6</td>\n",
       "      <td>4</td>\n",
       "      <td>28.0</td>\n",
       "      <td>3.0</td>\n",
       "      <td>95</td>\n",
       "    </tr>\n",
       "    <tr>\n",
       "      <th>3</th>\n",
       "      <td>5.1</td>\n",
       "      <td>West Indies</td>\n",
       "      <td>India</td>\n",
       "      <td>28</td>\n",
       "      <td>28.0</td>\n",
       "      <td>3.0</td>\n",
       "      <td>95</td>\n",
       "      <td>4</td>\n",
       "      <td>West Indies</td>\n",
       "      <td>India</td>\n",
       "      <td>28</td>\n",
       "      <td>5.1</td>\n",
       "      <td>4</td>\n",
       "      <td>28.0</td>\n",
       "      <td>3.0</td>\n",
       "      <td>95</td>\n",
       "    </tr>\n",
       "    <tr>\n",
       "      <th>4</th>\n",
       "      <td>5.2</td>\n",
       "      <td>West Indies</td>\n",
       "      <td>India</td>\n",
       "      <td>29</td>\n",
       "      <td>28.0</td>\n",
       "      <td>3.0</td>\n",
       "      <td>95</td>\n",
       "      <td>4</td>\n",
       "      <td>West Indies</td>\n",
       "      <td>India</td>\n",
       "      <td>29</td>\n",
       "      <td>5.2</td>\n",
       "      <td>4</td>\n",
       "      <td>28.0</td>\n",
       "      <td>3.0</td>\n",
       "      <td>95</td>\n",
       "    </tr>\n",
       "  </tbody>\n",
       "</table>\n",
       "</div>"
      ],
      "text/plain": [
       "   balls  battingTeam bowlingTeam  score  Run_In_Last5  Wickets_In_Last5  \\\n",
       "0    4.4  West Indies       India     28          28.0               3.0   \n",
       "1    4.5  West Indies       India     28          28.0               4.0   \n",
       "2    4.6  West Indies       India     28          28.0               3.0   \n",
       "3    5.1  West Indies       India     28          28.0               3.0   \n",
       "4    5.2  West Indies       India     29          28.0               3.0   \n",
       "\n",
       "   Final_Score  wickets  Battingteam Bowlingteam  Currentscore  overs  \\\n",
       "0           95        3  West Indies       India            28    4.4   \n",
       "1           95        4  West Indies       India            28    4.5   \n",
       "2           95        4  West Indies       India            28    4.6   \n",
       "3           95        4  West Indies       India            28    5.1   \n",
       "4           95        4  West Indies       India            29    5.2   \n",
       "\n",
       "   Wickets  RunsinLast_5  WicketsinLast_5  FinalScore  \n",
       "0        3          28.0              3.0          95  \n",
       "1        4          28.0              4.0          95  \n",
       "2        4          28.0              3.0          95  \n",
       "3        4          28.0              3.0          95  \n",
       "4        4          28.0              3.0          95  "
      ]
     },
     "execution_count": 12,
     "metadata": {},
     "output_type": "execute_result"
    }
   ],
   "source": [
    "df['Battingteam']=df['battingTeam']\n",
    "df['Bowlingteam']=df['bowlingTeam']\n",
    "df['Currentscore']=df['score']\n",
    "df['overs']=df['balls']\n",
    "df['Wickets']=df['wickets']\n",
    "df['RunsinLast_5']=df['Run_In_Last5']\n",
    "df['WicketsinLast_5']=df['Wickets_In_Last5']\n",
    "df['FinalScore']=df['Final_Score']\n",
    "df.head()"
   ]
  },
  {
   "cell_type": "code",
   "execution_count": 13,
   "id": "7f2709f7",
   "metadata": {
    "colab": {
     "base_uri": "https://localhost:8080/",
     "height": 206
    },
    "id": "7f2709f7",
    "outputId": "8710c6b3-8728-460c-ac11-6c8c22bc106c"
   },
   "outputs": [
    {
     "data": {
      "text/html": [
       "<div>\n",
       "<style scoped>\n",
       "    .dataframe tbody tr th:only-of-type {\n",
       "        vertical-align: middle;\n",
       "    }\n",
       "\n",
       "    .dataframe tbody tr th {\n",
       "        vertical-align: top;\n",
       "    }\n",
       "\n",
       "    .dataframe thead th {\n",
       "        text-align: right;\n",
       "    }\n",
       "</style>\n",
       "<table border=\"1\" class=\"dataframe\">\n",
       "  <thead>\n",
       "    <tr style=\"text-align: right;\">\n",
       "      <th></th>\n",
       "      <th>Battingteam</th>\n",
       "      <th>Bowlingteam</th>\n",
       "      <th>Currentscore</th>\n",
       "      <th>overs</th>\n",
       "      <th>Wickets</th>\n",
       "      <th>RunsinLast_5</th>\n",
       "      <th>WicketsinLast_5</th>\n",
       "      <th>FinalScore</th>\n",
       "    </tr>\n",
       "  </thead>\n",
       "  <tbody>\n",
       "    <tr>\n",
       "      <th>0</th>\n",
       "      <td>West Indies</td>\n",
       "      <td>India</td>\n",
       "      <td>28</td>\n",
       "      <td>4.4</td>\n",
       "      <td>3</td>\n",
       "      <td>28.0</td>\n",
       "      <td>3.0</td>\n",
       "      <td>95</td>\n",
       "    </tr>\n",
       "    <tr>\n",
       "      <th>1</th>\n",
       "      <td>West Indies</td>\n",
       "      <td>India</td>\n",
       "      <td>28</td>\n",
       "      <td>4.5</td>\n",
       "      <td>4</td>\n",
       "      <td>28.0</td>\n",
       "      <td>4.0</td>\n",
       "      <td>95</td>\n",
       "    </tr>\n",
       "    <tr>\n",
       "      <th>2</th>\n",
       "      <td>West Indies</td>\n",
       "      <td>India</td>\n",
       "      <td>28</td>\n",
       "      <td>4.6</td>\n",
       "      <td>4</td>\n",
       "      <td>28.0</td>\n",
       "      <td>3.0</td>\n",
       "      <td>95</td>\n",
       "    </tr>\n",
       "    <tr>\n",
       "      <th>3</th>\n",
       "      <td>West Indies</td>\n",
       "      <td>India</td>\n",
       "      <td>28</td>\n",
       "      <td>5.1</td>\n",
       "      <td>4</td>\n",
       "      <td>28.0</td>\n",
       "      <td>3.0</td>\n",
       "      <td>95</td>\n",
       "    </tr>\n",
       "    <tr>\n",
       "      <th>4</th>\n",
       "      <td>West Indies</td>\n",
       "      <td>India</td>\n",
       "      <td>29</td>\n",
       "      <td>5.2</td>\n",
       "      <td>4</td>\n",
       "      <td>28.0</td>\n",
       "      <td>3.0</td>\n",
       "      <td>95</td>\n",
       "    </tr>\n",
       "  </tbody>\n",
       "</table>\n",
       "</div>"
      ],
      "text/plain": [
       "   Battingteam Bowlingteam  Currentscore  overs  Wickets  RunsinLast_5  \\\n",
       "0  West Indies       India            28    4.4        3          28.0   \n",
       "1  West Indies       India            28    4.5        4          28.0   \n",
       "2  West Indies       India            28    4.6        4          28.0   \n",
       "3  West Indies       India            28    5.1        4          28.0   \n",
       "4  West Indies       India            29    5.2        4          28.0   \n",
       "\n",
       "   WicketsinLast_5  FinalScore  \n",
       "0              3.0          95  \n",
       "1              4.0          95  \n",
       "2              3.0          95  \n",
       "3              3.0          95  \n",
       "4              3.0          95  "
      ]
     },
     "execution_count": 13,
     "metadata": {},
     "output_type": "execute_result"
    }
   ],
   "source": [
    "# Removing the unwanted columns\n",
    "df.drop(['balls','battingTeam','bowlingTeam','score','Run_In_Last5','Wickets_In_Last5','Final_Score','wickets'] , axis=1, inplace=True)\n",
    "df.head()"
   ]
  },
  {
   "cell_type": "code",
   "execution_count": 14,
   "id": "78ae92b5",
   "metadata": {
    "colab": {
     "base_uri": "https://localhost:8080/",
     "height": 613
    },
    "id": "78ae92b5",
    "outputId": "6d85646b-d642-4ed0-8709-d8d048ffe4aa"
   },
   "outputs": [
    {
     "data": {
      "text/plain": [
       "<AxesSubplot: >"
      ]
     },
     "execution_count": 14,
     "metadata": {},
     "output_type": "execute_result"
    },
    {
     "data": {
      "image/png": "[encoded data removed]",
      "text/plain": [
       "<Figure size 1200x1000 with 2 Axes>"
      ]
     },
     "metadata": {},
     "output_type": "display_data"
    }
   ],
   "source": [
    "from matplotlib import pyplot as plt\n",
    "import seaborn as sns\n",
    "# Correlation of each of the feature\n",
    "df1=df.select_dtypes(include=np.number)\n",
    "corrmat = df1.corr()\n",
    "plt.figure(figsize=(12,10))\n",
    "# plot heat map\n",
    "sns.heatmap(corrmat, annot=True, cmap=\"RdYlGn\")"
   ]
  },
  {
   "cell_type": "code",
   "execution_count": 15,
   "id": "3a9d513c",
   "metadata": {
    "id": "3a9d513c"
   },
   "outputs": [],
   "source": [
    "# Considering only consistent teams\n",
    "consistent_teams = ['India','Pakistan','South Africa','West Indies','Australia','New Zealand','England','Sri Lanka']\n",
    "df = df[(df['Battingteam'].isin(consistent_teams)) & (df['Bowlingteam'].isin(consistent_teams))]"
   ]
  },
  {
   "cell_type": "code",
   "execution_count": 16,
   "id": "8f5d2588",
   "metadata": {
    "id": "8f5d2588"
   },
   "outputs": [],
   "source": [
    "# Converting categorical features using OneHotEncoding method\n",
    "Dummies = pd.get_dummies(df[['Battingteam', 'Bowlingteam']])\n",
    "df.drop(['Battingteam','Bowlingteam'],axis=1 , inplace=True)\n",
    "df = pd.concat([df, Dummies], axis = 1)"
   ]
  },
  {
   "cell_type": "code",
   "execution_count": 17,
   "id": "6c1d0716",
   "metadata": {
    "colab": {
     "base_uri": "https://localhost:8080/"
    },
    "id": "6c1d0716",
    "outputId": "56c57831-a93d-41c6-9599-bba1f8621ebc"
   },
   "outputs": [
    {
     "data": {
      "text/plain": [
       "Index(['Currentscore', 'overs', 'Wickets', 'RunsinLast_5', 'WicketsinLast_5',\n",
       "       'FinalScore', 'Battingteam_Australia', 'Battingteam_England',\n",
       "       'Battingteam_India', 'Battingteam_New Zealand', 'Battingteam_Pakistan',\n",
       "       'Battingteam_South Africa', 'Battingteam_Sri Lanka',\n",
       "       'Battingteam_West Indies', 'Bowlingteam_Australia',\n",
       "       'Bowlingteam_England', 'Bowlingteam_India', 'Bowlingteam_New Zealand',\n",
       "       'Bowlingteam_Pakistan', 'Bowlingteam_South Africa',\n",
       "       'Bowlingteam_Sri Lanka', 'Bowlingteam_West Indies'],\n",
       "      dtype='object')"
      ]
     },
     "execution_count": 17,
     "metadata": {},
     "output_type": "execute_result"
    }
   ],
   "source": [
    "df.columns"
   ]
  },
  {
   "cell_type": "code",
   "execution_count": 18,
   "id": "8426d74b",
   "metadata": {
    "colab": {
     "base_uri": "https://localhost:8080/",
     "height": 505
    },
    "id": "8426d74b",
    "outputId": "7aaae656-d4ab-4060-bfa6-b795124ed58d"
   },
   "outputs": [
    {
     "data": {
      "text/html": [
       "<div>\n",
       "<style scoped>\n",
       "    .dataframe tbody tr th:only-of-type {\n",
       "        vertical-align: middle;\n",
       "    }\n",
       "\n",
       "    .dataframe tbody tr th {\n",
       "        vertical-align: top;\n",
       "    }\n",
       "\n",
       "    .dataframe thead th {\n",
       "        text-align: right;\n",
       "    }\n",
       "</style>\n",
       "<table border=\"1\" class=\"dataframe\">\n",
       "  <thead>\n",
       "    <tr style=\"text-align: right;\">\n",
       "      <th></th>\n",
       "      <th>Battingteam_Australia</th>\n",
       "      <th>Battingteam_England</th>\n",
       "      <th>Battingteam_India</th>\n",
       "      <th>Battingteam_New Zealand</th>\n",
       "      <th>Battingteam_Pakistan</th>\n",
       "      <th>Battingteam_South Africa</th>\n",
       "      <th>Battingteam_Sri Lanka</th>\n",
       "      <th>Battingteam_West Indies</th>\n",
       "      <th>Bowlingteam_Australia</th>\n",
       "      <th>Bowlingteam_England</th>\n",
       "      <th>...</th>\n",
       "      <th>Bowlingteam_Pakistan</th>\n",
       "      <th>Bowlingteam_South Africa</th>\n",
       "      <th>Bowlingteam_Sri Lanka</th>\n",
       "      <th>Bowlingteam_West Indies</th>\n",
       "      <th>Currentscore</th>\n",
       "      <th>overs</th>\n",
       "      <th>Wickets</th>\n",
       "      <th>RunsinLast_5</th>\n",
       "      <th>WicketsinLast_5</th>\n",
       "      <th>FinalScore</th>\n",
       "    </tr>\n",
       "  </thead>\n",
       "  <tbody>\n",
       "    <tr>\n",
       "      <th>0</th>\n",
       "      <td>0</td>\n",
       "      <td>0</td>\n",
       "      <td>0</td>\n",
       "      <td>0</td>\n",
       "      <td>0</td>\n",
       "      <td>0</td>\n",
       "      <td>0</td>\n",
       "      <td>1</td>\n",
       "      <td>0</td>\n",
       "      <td>0</td>\n",
       "      <td>...</td>\n",
       "      <td>0</td>\n",
       "      <td>0</td>\n",
       "      <td>0</td>\n",
       "      <td>0</td>\n",
       "      <td>28</td>\n",
       "      <td>4.4</td>\n",
       "      <td>3</td>\n",
       "      <td>28.0</td>\n",
       "      <td>3.0</td>\n",
       "      <td>95</td>\n",
       "    </tr>\n",
       "    <tr>\n",
       "      <th>1</th>\n",
       "      <td>0</td>\n",
       "      <td>0</td>\n",
       "      <td>0</td>\n",
       "      <td>0</td>\n",
       "      <td>0</td>\n",
       "      <td>0</td>\n",
       "      <td>0</td>\n",
       "      <td>1</td>\n",
       "      <td>0</td>\n",
       "      <td>0</td>\n",
       "      <td>...</td>\n",
       "      <td>0</td>\n",
       "      <td>0</td>\n",
       "      <td>0</td>\n",
       "      <td>0</td>\n",
       "      <td>28</td>\n",
       "      <td>4.5</td>\n",
       "      <td>4</td>\n",
       "      <td>28.0</td>\n",
       "      <td>4.0</td>\n",
       "      <td>95</td>\n",
       "    </tr>\n",
       "    <tr>\n",
       "      <th>2</th>\n",
       "      <td>0</td>\n",
       "      <td>0</td>\n",
       "      <td>0</td>\n",
       "      <td>0</td>\n",
       "      <td>0</td>\n",
       "      <td>0</td>\n",
       "      <td>0</td>\n",
       "      <td>1</td>\n",
       "      <td>0</td>\n",
       "      <td>0</td>\n",
       "      <td>...</td>\n",
       "      <td>0</td>\n",
       "      <td>0</td>\n",
       "      <td>0</td>\n",
       "      <td>0</td>\n",
       "      <td>28</td>\n",
       "      <td>4.6</td>\n",
       "      <td>4</td>\n",
       "      <td>28.0</td>\n",
       "      <td>3.0</td>\n",
       "      <td>95</td>\n",
       "    </tr>\n",
       "    <tr>\n",
       "      <th>3</th>\n",
       "      <td>0</td>\n",
       "      <td>0</td>\n",
       "      <td>0</td>\n",
       "      <td>0</td>\n",
       "      <td>0</td>\n",
       "      <td>0</td>\n",
       "      <td>0</td>\n",
       "      <td>1</td>\n",
       "      <td>0</td>\n",
       "      <td>0</td>\n",
       "      <td>...</td>\n",
       "      <td>0</td>\n",
       "      <td>0</td>\n",
       "      <td>0</td>\n",
       "      <td>0</td>\n",
       "      <td>28</td>\n",
       "      <td>5.1</td>\n",
       "      <td>4</td>\n",
       "      <td>28.0</td>\n",
       "      <td>3.0</td>\n",
       "      <td>95</td>\n",
       "    </tr>\n",
       "    <tr>\n",
       "      <th>4</th>\n",
       "      <td>0</td>\n",
       "      <td>0</td>\n",
       "      <td>0</td>\n",
       "      <td>0</td>\n",
       "      <td>0</td>\n",
       "      <td>0</td>\n",
       "      <td>0</td>\n",
       "      <td>1</td>\n",
       "      <td>0</td>\n",
       "      <td>0</td>\n",
       "      <td>...</td>\n",
       "      <td>0</td>\n",
       "      <td>0</td>\n",
       "      <td>0</td>\n",
       "      <td>0</td>\n",
       "      <td>29</td>\n",
       "      <td>5.2</td>\n",
       "      <td>4</td>\n",
       "      <td>28.0</td>\n",
       "      <td>3.0</td>\n",
       "      <td>95</td>\n",
       "    </tr>\n",
       "    <tr>\n",
       "      <th>...</th>\n",
       "      <td>...</td>\n",
       "      <td>...</td>\n",
       "      <td>...</td>\n",
       "      <td>...</td>\n",
       "      <td>...</td>\n",
       "      <td>...</td>\n",
       "      <td>...</td>\n",
       "      <td>...</td>\n",
       "      <td>...</td>\n",
       "      <td>...</td>\n",
       "      <td>...</td>\n",
       "      <td>...</td>\n",
       "      <td>...</td>\n",
       "      <td>...</td>\n",
       "      <td>...</td>\n",
       "      <td>...</td>\n",
       "      <td>...</td>\n",
       "      <td>...</td>\n",
       "      <td>...</td>\n",
       "      <td>...</td>\n",
       "      <td>...</td>\n",
       "    </tr>\n",
       "    <tr>\n",
       "      <th>131526</th>\n",
       "      <td>0</td>\n",
       "      <td>1</td>\n",
       "      <td>0</td>\n",
       "      <td>0</td>\n",
       "      <td>0</td>\n",
       "      <td>0</td>\n",
       "      <td>0</td>\n",
       "      <td>0</td>\n",
       "      <td>0</td>\n",
       "      <td>0</td>\n",
       "      <td>...</td>\n",
       "      <td>0</td>\n",
       "      <td>1</td>\n",
       "      <td>0</td>\n",
       "      <td>0</td>\n",
       "      <td>165</td>\n",
       "      <td>19.2</td>\n",
       "      <td>5</td>\n",
       "      <td>32.0</td>\n",
       "      <td>3.0</td>\n",
       "      <td>171</td>\n",
       "    </tr>\n",
       "    <tr>\n",
       "      <th>131527</th>\n",
       "      <td>0</td>\n",
       "      <td>1</td>\n",
       "      <td>0</td>\n",
       "      <td>0</td>\n",
       "      <td>0</td>\n",
       "      <td>0</td>\n",
       "      <td>0</td>\n",
       "      <td>0</td>\n",
       "      <td>0</td>\n",
       "      <td>0</td>\n",
       "      <td>...</td>\n",
       "      <td>0</td>\n",
       "      <td>1</td>\n",
       "      <td>0</td>\n",
       "      <td>0</td>\n",
       "      <td>166</td>\n",
       "      <td>19.3</td>\n",
       "      <td>5</td>\n",
       "      <td>33.0</td>\n",
       "      <td>3.0</td>\n",
       "      <td>171</td>\n",
       "    </tr>\n",
       "    <tr>\n",
       "      <th>131528</th>\n",
       "      <td>0</td>\n",
       "      <td>1</td>\n",
       "      <td>0</td>\n",
       "      <td>0</td>\n",
       "      <td>0</td>\n",
       "      <td>0</td>\n",
       "      <td>0</td>\n",
       "      <td>0</td>\n",
       "      <td>0</td>\n",
       "      <td>0</td>\n",
       "      <td>...</td>\n",
       "      <td>0</td>\n",
       "      <td>1</td>\n",
       "      <td>0</td>\n",
       "      <td>0</td>\n",
       "      <td>167</td>\n",
       "      <td>19.4</td>\n",
       "      <td>6</td>\n",
       "      <td>34.0</td>\n",
       "      <td>3.0</td>\n",
       "      <td>171</td>\n",
       "    </tr>\n",
       "    <tr>\n",
       "      <th>131529</th>\n",
       "      <td>0</td>\n",
       "      <td>1</td>\n",
       "      <td>0</td>\n",
       "      <td>0</td>\n",
       "      <td>0</td>\n",
       "      <td>0</td>\n",
       "      <td>0</td>\n",
       "      <td>0</td>\n",
       "      <td>0</td>\n",
       "      <td>0</td>\n",
       "      <td>...</td>\n",
       "      <td>0</td>\n",
       "      <td>1</td>\n",
       "      <td>0</td>\n",
       "      <td>0</td>\n",
       "      <td>171</td>\n",
       "      <td>19.5</td>\n",
       "      <td>6</td>\n",
       "      <td>37.0</td>\n",
       "      <td>3.0</td>\n",
       "      <td>171</td>\n",
       "    </tr>\n",
       "    <tr>\n",
       "      <th>131530</th>\n",
       "      <td>0</td>\n",
       "      <td>1</td>\n",
       "      <td>0</td>\n",
       "      <td>0</td>\n",
       "      <td>0</td>\n",
       "      <td>0</td>\n",
       "      <td>0</td>\n",
       "      <td>0</td>\n",
       "      <td>0</td>\n",
       "      <td>0</td>\n",
       "      <td>...</td>\n",
       "      <td>0</td>\n",
       "      <td>1</td>\n",
       "      <td>0</td>\n",
       "      <td>0</td>\n",
       "      <td>171</td>\n",
       "      <td>19.6</td>\n",
       "      <td>6</td>\n",
       "      <td>37.0</td>\n",
       "      <td>3.0</td>\n",
       "      <td>171</td>\n",
       "    </tr>\n",
       "  </tbody>\n",
       "</table>\n",
       "<p>88730 rows × 22 columns</p>\n",
       "</div>"
      ],
      "text/plain": [
       "        Battingteam_Australia  Battingteam_England  Battingteam_India  \\\n",
       "0                           0                    0                  0   \n",
       "1                           0                    0                  0   \n",
       "2                           0                    0                  0   \n",
       "3                           0                    0                  0   \n",
       "4                           0                    0                  0   \n",
       "...                       ...                  ...                ...   \n",
       "131526                      0                    1                  0   \n",
       "131527                      0                    1                  0   \n",
       "131528                      0                    1                  0   \n",
       "131529                      0                    1                  0   \n",
       "131530                      0                    1                  0   \n",
       "\n",
       "        Battingteam_New Zealand  Battingteam_Pakistan  \\\n",
       "0                             0                     0   \n",
       "1                             0                     0   \n",
       "2                             0                     0   \n",
       "3                             0                     0   \n",
       "4                             0                     0   \n",
       "...                         ...                   ...   \n",
       "131526                        0                     0   \n",
       "131527                        0                     0   \n",
       "131528                        0                     0   \n",
       "131529                        0                     0   \n",
       "131530                        0                     0   \n",
       "\n",
       "        Battingteam_South Africa  Battingteam_Sri Lanka  \\\n",
       "0                              0                      0   \n",
       "1                              0                      0   \n",
       "2                              0                      0   \n",
       "3                              0                      0   \n",
       "4                              0                      0   \n",
       "...                          ...                    ...   \n",
       "131526                         0                      0   \n",
       "131527                         0                      0   \n",
       "131528                         0                      0   \n",
       "131529                         0                      0   \n",
       "131530                         0                      0   \n",
       "\n",
       "        Battingteam_West Indies  Bowlingteam_Australia  Bowlingteam_England  \\\n",
       "0                             1                      0                    0   \n",
       "1                             1                      0                    0   \n",
       "2                             1                      0                    0   \n",
       "3                             1                      0                    0   \n",
       "4                             1                      0                    0   \n",
       "...                         ...                    ...                  ...   \n",
       "131526                        0                      0                    0   \n",
       "131527                        0                      0                    0   \n",
       "131528                        0                      0                    0   \n",
       "131529                        0                      0                    0   \n",
       "131530                        0                      0                    0   \n",
       "\n",
       "        ...  Bowlingteam_Pakistan  Bowlingteam_South Africa  \\\n",
       "0       ...                     0                         0   \n",
       "1       ...                     0                         0   \n",
       "2       ...                     0                         0   \n",
       "3       ...                     0                         0   \n",
       "4       ...                     0                         0   \n",
       "...     ...                   ...                       ...   \n",
       "131526  ...                     0                         1   \n",
       "131527  ...                     0                         1   \n",
       "131528  ...                     0                         1   \n",
       "131529  ...                     0                         1   \n",
       "131530  ...                     0                         1   \n",
       "\n",
       "        Bowlingteam_Sri Lanka  Bowlingteam_West Indies  Currentscore  overs  \\\n",
       "0                           0                        0            28    4.4   \n",
       "1                           0                        0            28    4.5   \n",
       "2                           0                        0            28    4.6   \n",
       "3                           0                        0            28    5.1   \n",
       "4                           0                        0            29    5.2   \n",
       "...                       ...                      ...           ...    ...   \n",
       "131526                      0                        0           165   19.2   \n",
       "131527                      0                        0           166   19.3   \n",
       "131528                      0                        0           167   19.4   \n",
       "131529                      0                        0           171   19.5   \n",
       "131530                      0                        0           171   19.6   \n",
       "\n",
       "        Wickets  RunsinLast_5  WicketsinLast_5  FinalScore  \n",
       "0             3          28.0              3.0          95  \n",
       "1             4          28.0              4.0          95  \n",
       "2             4          28.0              3.0          95  \n",
       "3             4          28.0              3.0          95  \n",
       "4             4          28.0              3.0          95  \n",
       "...         ...           ...              ...         ...  \n",
       "131526        5          32.0              3.0         171  \n",
       "131527        5          33.0              3.0         171  \n",
       "131528        6          34.0              3.0         171  \n",
       "131529        6          37.0              3.0         171  \n",
       "131530        6          37.0              3.0         171  \n",
       "\n",
       "[88730 rows x 22 columns]"
      ]
     },
     "execution_count": 18,
     "metadata": {},
     "output_type": "execute_result"
    }
   ],
   "source": [
    "df[['Battingteam_Australia', 'Battingteam_England',\n",
    "       'Battingteam_India', 'Battingteam_New Zealand', 'Battingteam_Pakistan',\n",
    "       'Battingteam_South Africa', 'Battingteam_Sri Lanka',\n",
    "       'Battingteam_West Indies', 'Bowlingteam_Australia',\n",
    "       'Bowlingteam_England', 'Bowlingteam_India', 'Bowlingteam_New Zealand',\n",
    "       'Bowlingteam_Pakistan', 'Bowlingteam_South Africa',\n",
    "       'Bowlingteam_Sri Lanka', 'Bowlingteam_West Indies','Currentscore', 'overs', 'Wickets', 'RunsinLast_5', 'WicketsinLast_5',\n",
    "       'FinalScore']]"
   ]
  },
  {
   "cell_type": "markdown",
   "id": "Ej0dtqibmyEB",
   "metadata": {
    "id": "Ej0dtqibmyEB"
   },
   "source": [
    "USING DECISION-TREE-REGRESSOR | SPLIT THE DATA INTO TRAIN AND TEST | FIT THE MODEL"
   ]
  },
  {
   "cell_type": "code",
   "execution_count": 19,
   "id": "WEZ1l0izkOqw",
   "metadata": {
    "id": "WEZ1l0izkOqw"
   },
   "outputs": [],
   "source": [
    "import matplotlib.pyplot as plt\n",
    "from sklearn.model_selection import cross_val_score\n",
    "from sklearn.model_selection import train_test_split\n",
    "\n",
    "X = df.drop('FinalScore', axis=1)\n",
    "y = df['FinalScore']\n",
    "X_train, X_test, y_train, y_test = train_test_split(X, y, test_size=0.2, random_state=0)"
   ]
  },
  {
   "cell_type": "code",
   "execution_count": 20,
   "id": "FzrDCpLHLjl4",
   "metadata": {
    "colab": {
     "base_uri": "https://localhost:8080/"
    },
    "id": "FzrDCpLHLjl4",
    "outputId": "675cb1f8-184f-4414-c15e-3eef47b1e8eb"
   },
   "outputs": [
    {
     "data": {
      "text/html": [
       "<style>#sk-container-id-1 {color: black;background-color: white;}#sk-container-id-1 pre{padding: 0;}#sk-container-id-1 div.sk-toggleable {background-color: white;}#sk-container-id-1 label.sk-toggleable__label {cursor: pointer;display: block;width: 100%;margin-bottom: 0;padding: 0.3em;box-sizing: border-box;text-align: center;}#sk-container-id-1 label.sk-toggleable__label-arrow:before {content: \"▸\";float: left;margin-right: 0.25em;color: #696969;}#sk-container-id-1 label.sk-toggleable__label-arrow:hover:before {color: black;}#sk-container-id-1 div.sk-estimator:hover label.sk-toggleable__label-arrow:before {color: black;}#sk-container-id-1 div.sk-toggleable__content {max-height: 0;max-width: 0;overflow: hidden;text-align: left;background-color: #f0f8ff;}#sk-container-id-1 div.sk-toggleable__content pre {margin: 0.2em;color: black;border-radius: 0.25em;background-color: #f0f8ff;}#sk-container-id-1 input.sk-toggleable__control:checked~div.sk-toggleable__content {max-height: 200px;max-width: 100%;overflow: auto;}#sk-container-id-1 input.sk-toggleable__control:checked~label.sk-toggleable__label-arrow:before {content: \"▾\";}#sk-container-id-1 div.sk-estimator input.sk-toggleable__control:checked~label.sk-toggleable__label {background-color: #d4ebff;}#sk-container-id-1 div.sk-label input.sk-toggleable__control:checked~label.sk-toggleable__label {background-color: #d4ebff;}#sk-container-id-1 input.sk-hidden--visually {border: 0;clip: rect(1px 1px 1px 1px);clip: rect(1px, 1px, 1px, 1px);height: 1px;margin: -1px;overflow: hidden;padding: 0;position: absolute;width: 1px;}#sk-container-id-1 div.sk-estimator {font-family: monospace;background-color: #f0f8ff;border: 1px dotted black;border-radius: 0.25em;box-sizing: border-box;margin-bottom: 0.5em;}#sk-container-id-1 div.sk-estimator:hover {background-color: #d4ebff;}#sk-container-id-1 div.sk-parallel-item::after {content: \"\";width: 100%;border-bottom: 1px solid gray;flex-grow: 1;}#sk-container-id-1 div.sk-label:hover label.sk-toggleable__label {background-color: #d4ebff;}#sk-container-id-1 div.sk-serial::before {content: \"\";position: absolute;border-left: 1px solid gray;box-sizing: border-box;top: 0;bottom: 0;left: 50%;z-index: 0;}#sk-container-id-1 div.sk-serial {display: flex;flex-direction: column;align-items: center;background-color: white;padding-right: 0.2em;padding-left: 0.2em;position: relative;}#sk-container-id-1 div.sk-item {position: relative;z-index: 1;}#sk-container-id-1 div.sk-parallel {display: flex;align-items: stretch;justify-content: center;background-color: white;position: relative;}#sk-container-id-1 div.sk-item::before, #sk-container-id-1 div.sk-parallel-item::before {content: \"\";position: absolute;border-left: 1px solid gray;box-sizing: border-box;top: 0;bottom: 0;left: 50%;z-index: -1;}#sk-container-id-1 div.sk-parallel-item {display: flex;flex-direction: column;z-index: 1;position: relative;background-color: white;}#sk-container-id-1 div.sk-parallel-item:first-child::after {align-self: flex-end;width: 50%;}#sk-container-id-1 div.sk-parallel-item:last-child::after {align-self: flex-start;width: 50%;}#sk-container-id-1 div.sk-parallel-item:only-child::after {width: 0;}#sk-container-id-1 div.sk-dashed-wrapped {border: 1px dashed gray;margin: 0 0.4em 0.5em 0.4em;box-sizing: border-box;padding-bottom: 0.4em;background-color: white;}#sk-container-id-1 div.sk-label label {font-family: monospace;font-weight: bold;display: inline-block;line-height: 1.2em;}#sk-container-id-1 div.sk-label-container {text-align: center;}#sk-container-id-1 div.sk-container {/* jupyter's `normalize.less` sets `[hidden] { display: none; }` but bootstrap.min.css set `[hidden] { display: none !important; }` so we also need the `!important` here to be able to override the default hidden behavior on the sphinx rendered scikit-learn.org. See: https://github.com/scikit-learn/scikit-learn/issues/21755 */display: inline-block !important;position: relative;}#sk-container-id-1 div.sk-text-repr-fallback {display: none;}</style><div id=\"sk-container-id-1\" class=\"sk-top-container\"><div class=\"sk-text-repr-fallback\"><pre>RandomForestRegressor(max_depth=30, random_state=0)</pre><b>In a Jupyter environment, please rerun this cell to show the HTML representation or trust the notebook. <br />On GitHub, the HTML representation is unable to render, please try loading this page with nbviewer.org.</b></div><div class=\"sk-container\" hidden><div class=\"sk-item\"><div class=\"sk-estimator sk-toggleable\"><input class=\"sk-toggleable__control sk-hidden--visually\" id=\"sk-estimator-id-1\" type=\"checkbox\" checked><label for=\"sk-estimator-id-1\" class=\"sk-toggleable__label sk-toggleable__label-arrow\">RandomForestRegressor</label><div class=\"sk-toggleable__content\"><pre>RandomForestRegressor(max_depth=30, random_state=0)</pre></div></div></div></div></div>"
      ],
      "text/plain": [
       "RandomForestRegressor(max_depth=30, random_state=0)"
      ]
     },
     "execution_count": 20,
     "metadata": {},
     "output_type": "execute_result"
    }
   ],
   "source": [
    "#Random Forest\n",
    "from sklearn.ensemble import RandomForestRegressor\n",
    "rf = RandomForestRegressor(max_depth = 30, random_state= 0,n_estimators=100)\n",
    "# fit the regressor with X and Y train data\n",
    "rf.fit(X_train, y_train)"
   ]
  },
  {
   "cell_type": "code",
   "execution_count": 21,
   "id": "-ZpKfMsdNn6b",
   "metadata": {
    "colab": {
     "base_uri": "https://localhost:8080/"
    },
    "id": "-ZpKfMsdNn6b",
    "outputId": "b306adfc-4ebe-4863-f022-8e8d65610229"
   },
   "outputs": [
    {
     "name": "stdout",
     "output_type": "stream",
     "text": [
      "R-squared for train: 0.9791267192363236\n",
      "R-squared: 0.8663888266694993\n"
     ]
    }
   ],
   "source": [
    "score_rf = rf.score(X_train, y_train)\n",
    "print(\"R-squared for train:\", score_rf) \n",
    "score_rf_test = rf.score(X_test, y_test)\n",
    "print(\"R-squared:\", score_rf_test) "
   ]
  },
  {
   "cell_type": "code",
   "execution_count": 22,
   "id": "g5WTFM6-N3Jj",
   "metadata": {
    "colab": {
     "base_uri": "https://localhost:8080/"
    },
    "id": "g5WTFM6-N3Jj",
    "outputId": "b6601079-b3b5-4fd4-9f54-f16979af1186"
   },
   "outputs": [
    {
     "name": "stdout",
     "output_type": "stream",
     "text": [
      "Mean Absolute Error: 7.576693339344078\n"
     ]
    }
   ],
   "source": [
    "y_pred = rf.predict(X_test).round()\n",
    "from sklearn.metrics import mean_absolute_error, r2_score\n",
    "mae = mean_absolute_error(y_test, y_pred)\n",
    "print(\"Mean Absolute Error:\", mae)"
   ]
  },
  {
   "cell_type": "code",
   "execution_count": 27,
   "id": "94c4b720",
   "metadata": {
    "id": "94c4b720"
   },
   "outputs": [],
   "source": [
    "# Making predictions on the test set\n",
    "y_pred = rf.predict(X_test).round()"
   ]
  },
  {
   "cell_type": "code",
   "execution_count": 28,
   "id": "78753b96",
   "metadata": {
    "id": "78753b96"
   },
   "outputs": [],
   "source": [
    "from sklearn.metrics import mean_absolute_error, r2_score,confusion_matrix\n",
    "mae = mean_absolute_error(y_test, y_pred)\n",
    "r2 = r2_score(y_test, y_pred)"
   ]
  },
  {
   "cell_type": "code",
   "execution_count": 29,
   "id": "1b4d4b41",
   "metadata": {
    "colab": {
     "base_uri": "https://localhost:8080/"
    },
    "id": "1b4d4b41",
    "outputId": "d650b74a-d4e0-4a91-b368-58fef9535812"
   },
   "outputs": [
    {
     "name": "stdout",
     "output_type": "stream",
     "text": [
      "Mean Absolute Error: 7.576693339344078\n",
      "R-Squared Score: 0.8663772044686904\n"
     ]
    }
   ],
   "source": [
    "print(\"Mean Absolute Error:\", mae)\n",
    "print(\"R-Squared Score:\", r2)"
   ]
  },
  {
   "cell_type": "code",
   "execution_count": 30,
   "id": "8b3f8044",
   "metadata": {
    "colab": {
     "base_uri": "https://localhost:8080/"
    },
    "id": "8b3f8044",
    "outputId": "a6812f68-9fdd-4bad-fbd9-d9d391c4d792",
    "scrolled": true
   },
   "outputs": [
    {
     "name": "stdout",
     "output_type": "stream",
     "text": [
      "The accuracy of our model is 86.63772044686904%\n"
     ]
    }
   ],
   "source": [
    "from sklearn.metrics import r2_score\n",
    "score = r2_score(y_test,y_pred )\n",
    "print(\"The accuracy of our model is {}%\".format(score *100))"
   ]
  },
  {
   "cell_type": "code",
   "execution_count": 31,
   "id": "f36f56a8",
   "metadata": {
    "id": "f36f56a8"
   },
   "outputs": [],
   "source": [
    "def predict_score(Battingteam,Bowlingteam,Currentscore,overs,Wickets,RunsinLast_5, WicketsinLast_5):\n",
    "  temp_array = list()\n",
    "\n",
    "  # Batting Team\n",
    "  if Battingteam == 'India':\n",
    "    temp_array = temp_array + [1,0,0,0,0,0,0,0]\n",
    "  elif Battingteam == 'Sri Lanka':\n",
    "    temp_array = temp_array + [0,1,0,0,0,0,0,0]\n",
    "  elif Battingteam == 'South Africa':\n",
    "    temp_array = temp_array + [0,0,1,0,0,0,0,0]\n",
    "  elif Battingteam == 'Australia':\n",
    "    temp_array = temp_array + [0,0,0,1,0,0,0,0]\n",
    "  elif Battingteam == 'Pakistan':\n",
    "    temp_array = temp_array + [0,0,0,0,1,0,0,0]\n",
    "  elif Battingteam == 'West Indies':\n",
    "    temp_array = temp_array + [0,0,0,0,0,1,0,0]\n",
    "  elif Battingteam == 'England':\n",
    "    temp_array = temp_array + [0,0,0,0,0,0,1,0]\n",
    "  elif Battingteam == 'New Zealand':\n",
    "    temp_array = temp_array + [0,0,0,0,0,0,0,1]\n",
    "\n",
    "  # Bowling Team\n",
    "  if Bowlingteam == 'India':\n",
    "    temp_array = temp_array + [1,0,0,0,0,0,0,0]\n",
    "  elif Bowlingteam == 'Sri Lanka':\n",
    "    temp_array = temp_array + [0,1,0,0,0,0,0,0]\n",
    "  elif Bowlingteam == 'South Africa':\n",
    "    temp_array = temp_array + [0,0,1,0,0,0,0,0]\n",
    "  elif Bowlingteam == 'Australia':\n",
    "    temp_array = temp_array + [0,0,0,1,0,0,0,0]\n",
    "  elif Bowlingteam == 'Pakistan':\n",
    "    temp_array = temp_array + [0,0,0,0,1,0,0,0]\n",
    "  elif Bowlingteam == 'West Indies':\n",
    "    temp_array = temp_array + [0,0,0,0,0,1,0,0]\n",
    "  elif Bowlingteam == 'England':\n",
    "    temp_array = temp_array + [0,0,0,0,0,0,1,0]\n",
    "  elif Bowlingteam == 'New Zealand':\n",
    "    temp_array = temp_array + [0,0,0,0,0,0,0,1]\n",
    "\n",
    "  # Overs, Runs, Wickets, Runs_in_prev_5, Wickets_in_prev_5\n",
    "  temp_array = [Currentscore,overs, Wickets, RunsinLast_5, WicketsinLast_5] + temp_array\n",
    "\n",
    "  i=X_train.columns.to_list()\n",
    "  # Converting into numpy array\n",
    "  temp_array = pd.DataFrame([temp_array],columns=i)\n",
    "\n",
    "  # Prediction\n",
    "  return int(rf.predict(temp_array))"
   ]
  },
  {
   "cell_type": "code",
   "execution_count": 32,
   "id": "b7ff2b34",
   "metadata": {
    "colab": {
     "base_uri": "https://localhost:8080/"
    },
    "id": "b7ff2b34",
    "outputId": "84513c64-f43a-4d03-c2e3-3e2c9455a2a3"
   },
   "outputs": [
    {
     "name": "stdout",
     "output_type": "stream",
     "text": [
      "The final predicted score (range): 123 to 143\n"
     ]
    }
   ],
   "source": [
    "final_score = predict_score(Battingteam='Australia', Bowlingteam='India', overs=15.0, Currentscore=100, Wickets=6, RunsinLast_5=20, WicketsinLast_5=5)\n",
    "print(\"The final predicted score (range): {} to {}\".format(final_score-10, final_score+10))"
   ]
  },
  {
   "cell_type": "code",
   "execution_count": 33,
   "id": "37b9eb1a",
   "metadata": {
    "colab": {
     "base_uri": "https://localhost:8080/"
    },
    "id": "37b9eb1a",
    "outputId": "c5a1653b-5656-43b6-e0ad-e3e006ed3307"
   },
   "outputs": [
    {
     "name": "stdout",
     "output_type": "stream",
     "text": [
      "The final predicted score (range): 182 to 202\n"
     ]
    }
   ],
   "source": [
    "final_score = predict_score(Battingteam='New Zealand', Bowlingteam='Australia', overs=13.0, Currentscore=125, Wickets=2, RunsinLast_5=44, WicketsinLast_5=1)\n",
    "print(\"The final predicted score (range): {} to {}\".format(final_score-10, final_score+10))"
   ]
  },
  {
   "cell_type": "code",
   "execution_count": 34,
   "id": "27c772d4",
   "metadata": {
    "id": "27c772d4"
   },
   "outputs": [],
   "source": [
    "import pickle\n",
    "# open a file, where you ant to store the data\n",
    "file = open('ipl_score_prediction.pkl', 'wb')\n",
    "\n",
    "# dump information to that file\n",
    "pickle.dump(rf, file)"
   ]
  },
  {
   "cell_type": "code",
   "execution_count": 35,
   "id": "0280c3d4",
   "metadata": {},
   "outputs": [],
   "source": [
    "# Creating a pickle file for the classifier\n",
    "filename = 'ipl_score_prediction1.pkl'\n",
    "pickle.dump(rf, open(filename, 'wb'))"
   ]
  },
  {
   "cell_type": "code",
   "execution_count": null,
   "id": "33a8e434",
   "metadata": {},
   "outputs": [],
   "source": []
  }
 ],
 "metadata": {
  "colab": {
   "provenance": []
  },
  "kernelspec": {
   "display_name": "Python 3 (ipykernel)",
   "language": "python",
   "name": "python3"
  },
  "language_info": {
   "codemirror_mode": {
    "name": "ipython",
    "version": 3
   },
   "file_extension": ".py",
   "mimetype": "text/x-python",
   "name": "python",
   "nbconvert_exporter": "python",
   "pygments_lexer": "ipython3",
   "version": "3.9.16"
  }
 },
 "nbformat": 4,
 "nbformat_minor": 5
}
